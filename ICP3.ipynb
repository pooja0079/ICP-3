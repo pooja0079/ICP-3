{
  "cells": [
    {
      "cell_type": "markdown",
      "metadata": {
        "colab_type": "text",
        "id": "view-in-github"
      },
      "source": [
        "<a href=\"https://colab.research.google.com/github/Upender12/https-github.com-Upender12-Assignment3_Neural/blob/main/Assignment3.ipynb\" target=\"_parent\"><img src=\"https://colab.research.google.com/assets/colab-badge.svg\" alt=\"Open In Colab\"/></a>"
      ]
    },
    {
      "cell_type": "code",
      "execution_count": null,
      "metadata": {
        "colab": {
          "base_uri": "https://localhost:8080/"
        },
        "id": "1gaRGVzufyp0",
        "outputId": "d60cc625-bc5d-403d-928a-c6adea482241"
      },
      "outputs": [
        {
          "name": "stdout",
          "output_type": "stream",
          "text": [
            "Few benefits as full time employee.\n",
            "Average salary: 158750.0\n"
          ]
        }
      ],
      "source": [
        "class Employee:\n",
        "    \"\"\"    class with Employee name, family, salary and department\n",
        "    \"\"\"\n",
        "\n",
        "    no_of_employees = 0\n",
        "\n",
        "    def __init__(self, name, family_name, salary, department):\n",
        "        self.__name = name\n",
        "        self.__family_name = family_name\n",
        "        self.salary = salary\n",
        "        self.__department = department\n",
        "        Employee.no_of_employees += 1\n",
        "\n",
        "    @staticmethod\n",
        "    def average_salary(employees):\n",
        "        \"\"\"        function for the avg salary        \"\"\"\n",
        "        sum = 0\n",
        "        for employee in employees:\n",
        "            sum += employee.salary\n",
        "        return sum / Employee.no_of_employees\n",
        "\n",
        "\n",
        "class FulltimeEmployee(Employee):\n",
        "    \"\"\"\n",
        "    Full Time Employee is the sub class of the Employee\n",
        "    \"\"\"\n",
        "\n",
        "    def __init__(self, name, family_name, salary, department):\n",
        "        super().__init__(name, family_name, salary, department)\n",
        "\n",
        "    def full_time_benefits(self):\n",
        "        print(\"Few benefits as full time employee.\")\n",
        "\n",
        "\n",
        "def main():\n",
        "    employees = []\n",
        "    fte1 = FulltimeEmployee(\"Employee1\", \"FamilyName1\", 130000, \"Management\")\n",
        "    fte1.full_time_benefits()\n",
        "    employees.append(fte1)\n",
        "    fte2 = FulltimeEmployee(\"Employee2\", \"FamilyName2\", 190000, \"RnD\")\n",
        "    employees.append(fte2)\n",
        "    emp1 = Employee(\"Employee3\", \"FamilyName3\", 170000, \"Marketing\")\n",
        "    employees.append(emp1)\n",
        "    emp2 = Employee(\"Employee4\", \"FamilyName4\", 145000, \"HR\")\n",
        "    employees.append(emp2)\n",
        "    print(\"Average salary:\", FulltimeEmployee.average_salary(employees))\n",
        "\n",
        "\n",
        "if __name__ == \"__main__\":\n",
        "    main()\n"
      ]
    },
    {
      "cell_type": "code",
      "execution_count": null,
      "metadata": {
        "colab": {
          "base_uri": "https://localhost:8080/"
        },
        "id": "zEOSPt7fjLoR",
        "outputId": "10f48b12-e988-4906-9bf4-9c8b20fbee3c"
      },
      "outputs": [
        {
          "name": "stdout",
          "output_type": "stream",
          "text": [
            "[[ 6.17200629  0.          9.01341844 14.62962162 18.80745548]\n",
            " [ 0.         13.40409012  3.78129883 16.21560515  8.7324931 ]\n",
            " [10.42650796  3.52554595  0.          4.4834513   5.99580316]\n",
            " [14.49985784  6.35065077  0.         16.66694214  2.35422467]]\n"
          ]
        }
      ],
      "source": [
        "import numpy as np\n",
        "\n",
        "\n",
        "def replace_maxmium(array, replace_value, axis):\n",
        "    \"\"\" choose from x or y depending on condition: np.where(condition, x, y) \"\"\"\n",
        "    output = np.where(array == np.max(\n",
        "        array, axis=1).reshape(-1, 1), 0 * array, array)\n",
        "    print(output)\n",
        "\n",
        "\n",
        "def main():\n",
        "\n",
        "    random20 = np.random.random_sample(20) * 20 + 1\n",
        "\n",
        "    random20_4by5 = random20.reshape((4, 5))\n",
        "\n",
        "    replace_maxmium(random20_4by5, 0, 1)\n",
        "\n",
        "\n",
        "if __name__ == \"__main__\":\n",
        "    main()"
      ]
    }
  ],
  "metadata": {
    "colab": {
      "authorship_tag": "ABX9TyNWI43yoG3QItqKzaRBojHe",
      "include_colab_link": true,
      "provenance": []
    },
    "kernelspec": {
      "display_name": "Python 3",
      "name": "python3"
    },
    "language_info": {
      "name": "python"
    }
  },
  "nbformat": 4,
  "nbformat_minor": 0
}
